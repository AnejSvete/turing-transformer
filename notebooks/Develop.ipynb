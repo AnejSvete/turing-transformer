{
 "cells": [
  {
   "cell_type": "code",
   "execution_count": 1,
   "metadata": {},
   "outputs": [],
   "source": [
    "from rayuela.fsa.random import random_pfsa\n",
    "\n",
    "from turnformer.transformer.finite_state import FiniteStateTransform"
   ]
  },
  {
   "cell_type": "code",
   "execution_count": 10,
   "metadata": {},
   "outputs": [],
   "source": [
    "A = random_pfsa(\n",
    "    Sigma=\"abc\",\n",
    "    num_states=6,\n",
    "    bias=0.4,\n",
    "    deterministic=True,\n",
    "    seed=3,\n",
    ")"
   ]
  },
  {
   "cell_type": "code",
   "execution_count": 11,
   "metadata": {},
   "outputs": [
    {
     "data": {
      "text/html": [
       "\n",
       "       <script>\n",
       "       try {\n",
       "       require.config({\n",
       "       paths: {\n",
       "       \"d3\": \"https://cdnjs.cloudflare.com/ajax/libs/d3/4.13.0/d3\",\n",
       "       \"dagreD3\": \"https://cdnjs.cloudflare.com/ajax/libs/dagre-d3/0.6.1/dagre-d3.min\"\n",
       "       }\n",
       "       });\n",
       "       } catch {\n",
       "       [\"https://cdnjs.cloudflare.com/ajax/libs/d3/4.13.0/d3.js\",\n",
       "       \"https://cdnjs.cloudflare.com/ajax/libs/dagre-d3/0.6.1/dagre-d3.min.js\"].forEach(\n",
       "            function (src) {\n",
       "            var tag = document.createElement('script');\n",
       "            tag.src = src;\n",
       "            document.body.appendChild(tag);\n",
       "            }\n",
       "        )\n",
       "        }\n",
       "        try {\n",
       "        requirejs(['d3', 'dagreD3'], function() {});\n",
       "        } catch (e) {}\n",
       "        try {\n",
       "        require(['d3', 'dagreD3'], function() {});\n",
       "        } catch (e) {}\n",
       "        </script>\n",
       "        <style>\n",
       "        .node rect,\n",
       "        .node circle,\n",
       "        .node ellipse {\n",
       "        stroke: #333;\n",
       "        fill: #fff;\n",
       "        stroke-width: 1px;\n",
       "        }\n",
       "\n",
       "        .edgePath path {\n",
       "        stroke: #333;\n",
       "        fill: #333;\n",
       "        stroke-width: 1.5px;\n",
       "        }\n",
       "        </style>\n",
       "        <center><svg width=\"850\" height=\"600\" id=\"fst_3949f8c681294ed787e7c01786f496fc\"><g/></svg></center>\n",
       "        <script>\n",
       "        (function render_d3() {\n",
       "        var d3, dagreD3;\n",
       "        try { // requirejs is broken on external domains\n",
       "          d3 = require('d3');\n",
       "          dagreD3 = require('dagreD3');\n",
       "        } catch (e) {\n",
       "          // for google colab\n",
       "          if(typeof window.d3 !== \"undefined\" && typeof window.dagreD3 !== \"undefined\"){\n",
       "            d3 = window.d3;\n",
       "            dagreD3 = window.dagreD3;\n",
       "          } else { // not loaded yet, so wait and try again\n",
       "            setTimeout(render_d3, 50);\n",
       "            return;\n",
       "          }\n",
       "        }\n",
       "        //alert(\"loaded\");\n",
       "        var g = new dagreD3.graphlib.Graph().setGraph({ 'rankdir': 'LR' });\n",
       "        g.setNode(\"0\", { label: \"0 / 1.000\" , shape: \"circle\" });\n",
       "g.node(\"0\").style = \"fill: #66c2a5\"; \n",
       "g.setNode(\"1\",{label:\"1\",shape:\"circle\"});\n",
       "g.node(\"1\").style = \"fill: #8da0cb\"; \n",
       "g.setNode(\"3\",{label:\"3\",shape:\"circle\"});\n",
       "g.node(\"3\").style = \"fill: #8da0cb\"; \n",
       "g.setNode(\"4\",{label:\"4\",shape:\"circle\"});\n",
       "g.node(\"4\").style = \"fill: #8da0cb\"; \n",
       "g.setNode(\"5\",{label:\"5\",shape:\"circle\"});\n",
       "g.node(\"5\").style = \"fill: #8da0cb\"; \n",
       "g.setNode(\"2\",{label:\"2 / 0.106\",shape:\"circle\"});\n",
       "g.node(\"2\").style = \"fill: #fc8d62\"; \n",
       "g.setEdge(\"0\",\"5\",{arrowhead:\"vee\",label:\"b / 0.012\"});\n",
       "g.setEdge(\"0\",\"3\",{arrowhead:\"vee\",label:\"c / 0.754\"});\n",
       "g.setEdge(\"0\",\"4\",{arrowhead:\"vee\",label:\"a / 0.234\"});\n",
       "g.setEdge(\"1\",\"2\",{arrowhead:\"vee\",label:\"b / 0.016\"});\n",
       "g.setEdge(\"1\",\"0\",{arrowhead:\"vee\",label:\"a / 0.817\"});\n",
       "g.setEdge(\"1\",\"5\",{arrowhead:\"vee\",label:\"c / 0.167\"});\n",
       "g.setEdge(\"2\",\"2\",{arrowhead:\"vee\",label:\"c / 0.894\"});\n",
       "g.setEdge(\"3\",\"4\",{arrowhead:\"vee\",label:\"a / 0.252\"});\n",
       "g.setEdge(\"3\",\"1\",{arrowhead:\"vee\",label:\"c / 0.425\"});\n",
       "g.setEdge(\"3\",\"2\",{arrowhead:\"vee\",label:\"b / 0.323\"});\n",
       "g.setEdge(\"4\",\"5\",{arrowhead:\"vee\",label:\"b / 1.000\"});\n",
       "g.setEdge(\"5\",\"3\",{arrowhead:\"vee\",label:\"c / 0.569\"});\n",
       "g.setEdge(\"5\",\"1\",{arrowhead:\"vee\",label:\"a / 0.431\"});\n",
       "var svg = d3.select(\"#fst_3949f8c681294ed787e7c01786f496fc\"); \n",
       "\n",
       "        var inner = svg.select(\"g\");\n",
       "\n",
       "        // Set up zoom support\n",
       "        var zoom = d3.zoom().scaleExtent([0.3, 5]).on(\"zoom\", function() {\n",
       "        inner.attr(\"transform\", d3.event.transform);\n",
       "        });\n",
       "        svg.call(zoom);\n",
       "\n",
       "        // Create the renderer\n",
       "        var render = new dagreD3.render();\n",
       "\n",
       "        // Run the renderer. This is what draws the final graph.\n",
       "        render(inner, g);\n",
       "\n",
       "        // Center the graph\n",
       "        var initialScale = 0.75;\n",
       "        svg.call(zoom.transform, d3.zoomIdentity.translate(\n",
       "            (svg.attr(\"width\")-g.graph().width*initialScale)/2,20).scale(initialScale));\n",
       "\n",
       "        svg.attr('height', g.graph().height * initialScale + 50);\n",
       "        })();\n",
       "\n",
       "        </script>\n",
       "        "
      ],
      "text/plain": [
       "WFSA(6 states, <class 'rayuela.base.semiring.Real'>)"
      ]
     },
     "execution_count": 11,
     "metadata": {},
     "output_type": "execute_result"
    }
   ],
   "source": [
    "A"
   ]
  },
  {
   "cell_type": "code",
   "execution_count": 4,
   "metadata": {},
   "outputs": [],
   "source": [
    "T = FiniteStateTransform(A)"
   ]
  },
  {
   "cell_type": "code",
   "execution_count": 5,
   "metadata": {},
   "outputs": [
    {
     "data": {
      "text/plain": [
       "<turnformer.transformer.finite_state.FiniteStateTransform at 0x11789eb90>"
      ]
     },
     "execution_count": 5,
     "metadata": {},
     "output_type": "execute_result"
    }
   ],
   "source": [
    "T"
   ]
  },
  {
   "cell_type": "code",
   "execution_count": 6,
   "metadata": {},
   "outputs": [
    {
     "data": {
      "text/plain": [
       "<turnformer.transformer.transformer.Transformer at 0x11789e470>"
      ]
     },
     "execution_count": 6,
     "metadata": {},
     "output_type": "execute_result"
    }
   ],
   "source": [
    "T.T"
   ]
  },
  {
   "cell_type": "code",
   "execution_count": 7,
   "metadata": {},
   "outputs": [
    {
     "name": "stdout",
     "output_type": "stream",
     "text": [
      "X0.shape = (1, 14)\n",
      "\n",
      "x0:\n",
      "\t[0 0 1 0]\n",
      "\t[1 0]\n",
      "\t[0 0 1 0]\n",
      "y0: c\n",
      "p0: 0\n",
      "q0: 3\n",
      "\n",
      "X1.shape = (2, 14)\n",
      "[[0 0 1 0 1 0 0 0 1 0 0 0 0 0]\n",
      " [1 0 0 0 1 1 0 0 0 0 0 0 0 0]]\n",
      "\n",
      "x0:\n",
      "\t[0 0 1 0]\n",
      "\t[1 0]\n",
      "\t[0 0 1 0]\n",
      "y0: c\n",
      "p0: 0\n",
      "q0: 3\n",
      "\n",
      "x1:\n",
      "\t[1 0 0 0]\n",
      "\t[1 1]\n",
      "y1: b\n",
      "p1: 1\n",
      "\n",
      "Layer 0\n",
      "\n",
      "\n",
      "STATES\n",
      "state 0: 3\n",
      "state 1: 2\n",
      "SYMBOLS\n",
      "symbol 0: c\n",
      "symbol 1: b\n",
      "\n",
      "\n",
      "X2.shape = (3, 14)\n",
      "[[0 0 1 0 1 0 0 0 1 0 0 0 0 0]\n",
      " [1 0 0 0 1 1 0 1 0 0 0 0 0 0]\n",
      " [0 1 0 0 1 2 0 0 0 0 0 0 0 0]]\n",
      "\n",
      "x0:\n",
      "\t[0 0 1 0]\n",
      "\t[1 0]\n",
      "\t[0 0 1 0]\n",
      "y0: c\n",
      "p0: 0\n",
      "q0: 3\n",
      "\n",
      "x1:\n",
      "\t[1 0 0 0]\n",
      "\t[1 1]\n",
      "\t[0 1 0 0]\n",
      "y1: b\n",
      "p1: 1\n",
      "q1: 2\n",
      "\n",
      "x2:\n",
      "\t[0 1 0 0]\n",
      "\t[1 2]\n",
      "y2: a\n",
      "p2: 2\n",
      "\n",
      "Layer 0\n",
      "\n",
      "\n",
      "STATES\n",
      "state 0: 3\n",
      "state 1: 2\n",
      "state 2: 1\n",
      "SYMBOLS\n",
      "symbol 0: c\n",
      "symbol 1: b\n",
      "symbol 2: a\n",
      "\n",
      "\n",
      "X3.shape = (4, 14)\n",
      "[[0 0 1 0 1 0 0 0 1 0 0 0 0 0]\n",
      " [1 0 0 0 1 1 0 1 0 0 0 0 0 0]\n",
      " [0 1 0 0 1 2 1 0 0 0 0 0 0 0]\n",
      " [0 1 0 0 1 3 0 0 0 0 0 0 0 0]]\n",
      "\n",
      "x0:\n",
      "\t[0 0 1 0]\n",
      "\t[1 0]\n",
      "\t[0 0 1 0]\n",
      "y0: c\n",
      "p0: 0\n",
      "q0: 3\n",
      "\n",
      "x1:\n",
      "\t[1 0 0 0]\n",
      "\t[1 1]\n",
      "\t[0 1 0 0]\n",
      "y1: b\n",
      "p1: 1\n",
      "q1: 2\n",
      "\n",
      "x2:\n",
      "\t[0 1 0 0]\n",
      "\t[1 2]\n",
      "\t[1 0 0 0]\n",
      "y2: a\n",
      "p2: 2\n",
      "q2: 1\n",
      "\n",
      "x3:\n",
      "\t[0 1 0 0]\n",
      "\t[1 3]\n",
      "y3: a\n",
      "p3: 3\n",
      "\n",
      "Layer 0\n",
      "\n",
      "\n",
      "STATES\n",
      "state 0: 3\n",
      "state 1: 2\n",
      "state 2: 1\n",
      "state 3: 4\n",
      "SYMBOLS\n",
      "symbol 0: c\n",
      "symbol 1: b\n",
      "symbol 2: a\n",
      "symbol 3: a\n",
      "\n",
      "\n"
     ]
    },
    {
     "data": {
      "text/plain": [
       "array([0., 1., 0., 0., 1., 3., 0., 0., 0., 1., 0., 0., 0., 0.])"
      ]
     },
     "execution_count": 7,
     "metadata": {},
     "output_type": "execute_result"
    }
   ],
   "source": [
    "T.T(\"baa\")"
   ]
  },
  {
   "cell_type": "code",
   "execution_count": null,
   "metadata": {},
   "outputs": [],
   "source": []
  }
 ],
 "metadata": {
  "kernelspec": {
   "display_name": "rayuela",
   "language": "python",
   "name": "python3"
  },
  "language_info": {
   "codemirror_mode": {
    "name": "ipython",
    "version": 3
   },
   "file_extension": ".py",
   "mimetype": "text/x-python",
   "name": "python",
   "nbconvert_exporter": "python",
   "pygments_lexer": "ipython3",
   "version": "3.10.13"
  }
 },
 "nbformat": 4,
 "nbformat_minor": 2
}
