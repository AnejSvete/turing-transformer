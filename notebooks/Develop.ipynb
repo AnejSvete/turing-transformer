{
 "cells": [
  {
   "cell_type": "code",
   "execution_count": 1,
   "metadata": {},
   "outputs": [],
   "source": [
    "import random\n",
    "\n",
    "import numpy as np\n",
    "from rayuela.fsa.random import random_pfsa\n",
    "\n",
    "from turnformer.transformer.finite_state import FiniteStateTransform"
   ]
  },
  {
   "cell_type": "code",
   "execution_count": 2,
   "metadata": {},
   "outputs": [],
   "source": [
    "A = random_pfsa(\n",
    "    Sigma=\"abc\",\n",
    "    num_states=6,\n",
    "    bias=0.4,\n",
    "    deterministic=True,\n",
    "    seed=3,\n",
    ")"
   ]
  },
  {
   "cell_type": "code",
   "execution_count": 3,
   "metadata": {},
   "outputs": [
    {
     "data": {
      "text/html": [
       "\n",
       "       <script>\n",
       "       try {\n",
       "       require.config({\n",
       "       paths: {\n",
       "       \"d3\": \"https://cdnjs.cloudflare.com/ajax/libs/d3/4.13.0/d3\",\n",
       "       \"dagreD3\": \"https://cdnjs.cloudflare.com/ajax/libs/dagre-d3/0.6.1/dagre-d3.min\"\n",
       "       }\n",
       "       });\n",
       "       } catch {\n",
       "       [\"https://cdnjs.cloudflare.com/ajax/libs/d3/4.13.0/d3.js\",\n",
       "       \"https://cdnjs.cloudflare.com/ajax/libs/dagre-d3/0.6.1/dagre-d3.min.js\"].forEach(\n",
       "            function (src) {\n",
       "            var tag = document.createElement('script');\n",
       "            tag.src = src;\n",
       "            document.body.appendChild(tag);\n",
       "            }\n",
       "        )\n",
       "        }\n",
       "        try {\n",
       "        requirejs(['d3', 'dagreD3'], function() {});\n",
       "        } catch (e) {}\n",
       "        try {\n",
       "        require(['d3', 'dagreD3'], function() {});\n",
       "        } catch (e) {}\n",
       "        </script>\n",
       "        <style>\n",
       "        .node rect,\n",
       "        .node circle,\n",
       "        .node ellipse {\n",
       "        stroke: #333;\n",
       "        fill: #fff;\n",
       "        stroke-width: 1px;\n",
       "        }\n",
       "\n",
       "        .edgePath path {\n",
       "        stroke: #333;\n",
       "        fill: #333;\n",
       "        stroke-width: 1.5px;\n",
       "        }\n",
       "        </style>\n",
       "        <center><svg width=\"850\" height=\"600\" id=\"fst_76d00d2d92cf45f2b79ef12a7571eaf3\"><g/></svg></center>\n",
       "        <script>\n",
       "        (function render_d3() {\n",
       "        var d3, dagreD3;\n",
       "        try { // requirejs is broken on external domains\n",
       "          d3 = require('d3');\n",
       "          dagreD3 = require('dagreD3');\n",
       "        } catch (e) {\n",
       "          // for google colab\n",
       "          if(typeof window.d3 !== \"undefined\" && typeof window.dagreD3 !== \"undefined\"){\n",
       "            d3 = window.d3;\n",
       "            dagreD3 = window.dagreD3;\n",
       "          } else { // not loaded yet, so wait and try again\n",
       "            setTimeout(render_d3, 50);\n",
       "            return;\n",
       "          }\n",
       "        }\n",
       "        //alert(\"loaded\");\n",
       "        var g = new dagreD3.graphlib.Graph().setGraph({ 'rankdir': 'LR' });\n",
       "        g.setNode(\"0\", { label: \"0 / 1.000\" , shape: \"circle\" });\n",
       "g.node(\"0\").style = \"fill: #66c2a5\"; \n",
       "g.setNode(\"1\",{label:\"1\",shape:\"circle\"});\n",
       "g.node(\"1\").style = \"fill: #8da0cb\"; \n",
       "g.setNode(\"3\",{label:\"3\",shape:\"circle\"});\n",
       "g.node(\"3\").style = \"fill: #8da0cb\"; \n",
       "g.setNode(\"4\",{label:\"4\",shape:\"circle\"});\n",
       "g.node(\"4\").style = \"fill: #8da0cb\"; \n",
       "g.setNode(\"5\",{label:\"5\",shape:\"circle\"});\n",
       "g.node(\"5\").style = \"fill: #8da0cb\"; \n",
       "g.setNode(\"2\",{label:\"2 / 0.106\",shape:\"circle\"});\n",
       "g.node(\"2\").style = \"fill: #fc8d62\"; \n",
       "g.setEdge(\"0\",\"5\",{arrowhead:\"vee\",label:\"b / 0.012\"});\n",
       "g.setEdge(\"0\",\"3\",{arrowhead:\"vee\",label:\"c / 0.754\"});\n",
       "g.setEdge(\"0\",\"4\",{arrowhead:\"vee\",label:\"a / 0.234\"});\n",
       "g.setEdge(\"1\",\"2\",{arrowhead:\"vee\",label:\"b / 0.016\"});\n",
       "g.setEdge(\"1\",\"0\",{arrowhead:\"vee\",label:\"a / 0.817\"});\n",
       "g.setEdge(\"1\",\"5\",{arrowhead:\"vee\",label:\"c / 0.167\"});\n",
       "g.setEdge(\"2\",\"2\",{arrowhead:\"vee\",label:\"c / 0.894\"});\n",
       "g.setEdge(\"3\",\"4\",{arrowhead:\"vee\",label:\"a / 0.252\"});\n",
       "g.setEdge(\"3\",\"1\",{arrowhead:\"vee\",label:\"c / 0.425\"});\n",
       "g.setEdge(\"3\",\"2\",{arrowhead:\"vee\",label:\"b / 0.323\"});\n",
       "g.setEdge(\"4\",\"5\",{arrowhead:\"vee\",label:\"b / 1.000\"});\n",
       "g.setEdge(\"5\",\"3\",{arrowhead:\"vee\",label:\"c / 0.569\"});\n",
       "g.setEdge(\"5\",\"1\",{arrowhead:\"vee\",label:\"a / 0.431\"});\n",
       "var svg = d3.select(\"#fst_76d00d2d92cf45f2b79ef12a7571eaf3\"); \n",
       "\n",
       "        var inner = svg.select(\"g\");\n",
       "\n",
       "        // Set up zoom support\n",
       "        var zoom = d3.zoom().scaleExtent([0.3, 5]).on(\"zoom\", function() {\n",
       "        inner.attr(\"transform\", d3.event.transform);\n",
       "        });\n",
       "        svg.call(zoom);\n",
       "\n",
       "        // Create the renderer\n",
       "        var render = new dagreD3.render();\n",
       "\n",
       "        // Run the renderer. This is what draws the final graph.\n",
       "        render(inner, g);\n",
       "\n",
       "        // Center the graph\n",
       "        var initialScale = 0.75;\n",
       "        svg.call(zoom.transform, d3.zoomIdentity.translate(\n",
       "            (svg.attr(\"width\")-g.graph().width*initialScale)/2,20).scale(initialScale));\n",
       "\n",
       "        svg.attr('height', g.graph().height * initialScale + 50);\n",
       "        })();\n",
       "\n",
       "        </script>\n",
       "        "
      ],
      "text/plain": [
       "WFSA(6 states, <class 'rayuela.base.semiring.Real'>)"
      ]
     },
     "execution_count": 3,
     "metadata": {},
     "output_type": "execute_result"
    }
   ],
   "source": [
    "A"
   ]
  },
  {
   "cell_type": "code",
   "execution_count": 4,
   "metadata": {},
   "outputs": [],
   "source": [
    "T = FiniteStateTransform(A)"
   ]
  },
  {
   "cell_type": "code",
   "execution_count": 5,
   "metadata": {},
   "outputs": [],
   "source": [
    "lm = T.lm"
   ]
  },
  {
   "cell_type": "code",
   "execution_count": 9,
   "metadata": {},
   "outputs": [
    {
     "name": "stdout",
     "output_type": "stream",
     "text": [
      "y=cbc logpA=-3.7649124563643896 logpT=-3.7649124563643896\n",
      "y=cbcc logpA=-3.877347885694178 logpT=-3.877347885694178\n",
      "y=bcbcc logpA=-8.593523055311874 logpT=-8.593523055311874\n",
      "y=baaabcbc logpA=-10.9796307169917 logpT=-10.9796307169917\n",
      "y=bcccacab logpA=-17.493614583963975 logpT=-17.493614583963975\n",
      "y=ccb logpA=-7.519527901765905 logpT=-7.519527901765905\n",
      "y=bccb logpA=-12.2357030713836 logpT=-12.2357030713836\n",
      "y=cb logpA=-3.6524770270346014 logpT=-3.6524770270346014\n",
      "y=bab logpA=-11.6579724715861 logpT=-11.6579724715861\n",
      "y=cbcc logpA=-3.877347885694178 logpT=-3.877347885694178\n",
      "y=cb logpA=-3.6524770270346014 logpT=-3.6524770270346014\n",
      "y=cccccb logpA=-10.72621425785359 logpT=-10.72621425785359\n",
      "y=babc logpA=-11.77040790091589 logpT=-11.770407900915888\n",
      "y=ccacbc logpA=-5.105415954053092 logpT=-5.105415954053093\n",
      "y=cb logpA=-3.6524770270346014 logpT=-3.6524770270346014\n",
      "y=cb logpA=-3.6524770270346014 logpT=-3.6524770270346014\n",
      "y=bab logpA=-11.6579724715861 logpT=-11.6579724715861\n",
      "y=cb logpA=-3.6524770270346014 logpT=-3.6524770270346014\n",
      "y=ababc logpA=-8.790002924416605 logpT=-8.790002924416605\n",
      "y=babc logpA=-11.77040790091589 logpT=-11.770407900915888\n",
      "y=bcabab logpA=-13.599532721039463 logpT=-13.599532721039463\n",
      "y=bccccababccc logpA=-17.143525365116513 logpT=-17.143525365116513\n",
      "y=ccacabab logpA=-10.22386104911047 logpT=-10.22386104911047\n",
      "y=ccabab logpA=-12.998475969274804 logpT=-12.998475969274804\n",
      "y=cb logpA=-3.6524770270346014 logpT=-3.6524770270346014\n",
      "y=cb logpA=-3.6524770270346014 logpT=-3.6524770270346014\n",
      "y=ccb logpA=-7.519527901765905 logpT=-7.519527901765905\n",
      "y=bcb logpA=-8.368652196652297 logpT=-8.368652196652297\n",
      "y=cbc logpA=-3.7649124563643896 logpT=-3.7649124563643896\n",
      "y=cb logpA=-3.6524770270346014 logpT=-3.6524770270346014\n",
      "y=cbcccc logpA=-4.102218744353754 logpT=-4.102218744353754\n",
      "y=ababcc logpA=-8.902438353746394 logpT=-8.902438353746394\n",
      "y=abaababc logpA=-14.268950991925506 logpT=-14.268950991925504\n"
     ]
    }
   ],
   "source": [
    "N = 1000\n",
    "Tmax = 20\n",
    "\n",
    "for _ in range(N):\n",
    "    length = random.randint(1, Tmax)\n",
    "    y = ''.join(random.choices(['a', 'b', 'c'], k=length))\n",
    "\n",
    "    pA = A(y).value\n",
    "    if pA == 0:\n",
    "        continue\n",
    "\n",
    "    logpA = np.log(A(y).value)\n",
    "\n",
    "    logpT = lm(y)\n",
    "\n",
    "    print(f\"y={y} logpA={logpA} logpT={logpT}\")"
   ]
  },
  {
   "cell_type": "code",
   "execution_count": 7,
   "metadata": {},
   "outputs": [
    {
     "data": {
      "text/plain": [
       "-8.368652196652297"
      ]
     },
     "execution_count": 7,
     "metadata": {},
     "output_type": "execute_result"
    }
   ],
   "source": [
    "lm(\"bcb\")"
   ]
  },
  {
   "cell_type": "code",
   "execution_count": 8,
   "metadata": {},
   "outputs": [
    {
     "data": {
      "text/plain": [
       "-8.368652196652297"
      ]
     },
     "execution_count": 8,
     "metadata": {},
     "output_type": "execute_result"
    }
   ],
   "source": [
    "np.log(A(\"bcb\").value)"
   ]
  },
  {
   "cell_type": "code",
   "execution_count": null,
   "metadata": {},
   "outputs": [],
   "source": []
  }
 ],
 "metadata": {
  "kernelspec": {
   "display_name": "rayuela",
   "language": "python",
   "name": "python3"
  },
  "language_info": {
   "codemirror_mode": {
    "name": "ipython",
    "version": 3
   },
   "file_extension": ".py",
   "mimetype": "text/x-python",
   "name": "python",
   "nbconvert_exporter": "python",
   "pygments_lexer": "ipython3",
   "version": "3.10.13"
  }
 },
 "nbformat": 4,
 "nbformat_minor": 2
}
