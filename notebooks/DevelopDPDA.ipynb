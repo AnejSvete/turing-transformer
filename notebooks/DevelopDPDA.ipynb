{
 "cells": [
  {
   "cell_type": "code",
   "execution_count": 6,
   "metadata": {},
   "outputs": [],
   "source": [
    "import random\n",
    "\n",
    "import numpy as np\n",
    "\n",
    "from turnformer.base.symbols import BOT\n",
    "from turnformer.automata.pda import SingleStackPDA\n",
    "# from turnformer.transform.context_free import ContextFreeTransform"
   ]
  },
  {
   "cell_type": "code",
   "execution_count": 7,
   "metadata": {},
   "outputs": [],
   "source": [
    "P = SingleStackPDA(\n",
    "    Σ={\"a\", \"b\"},\n",
    "    Γ={BOT, \"0\", \"1\"},\n",
    "    n_states=2,\n",
    "    seed=42,\n",
    "    randomize=True,\n",
    ")"
   ]
  },
  {
   "cell_type": "code",
   "execution_count": 8,
   "metadata": {},
   "outputs": [
    {
     "name": "stdout",
     "output_type": "stream",
     "text": [
      "Probabilistic PDA\n",
      "-----------------\n",
      "\n",
      "States:\n",
      "q0\n",
      "q1\n",
      "\n",
      "Alphabet:\n",
      "b a \n",
      "\n",
      "Stack Alphabet:\n",
      "0 1 ⊥ \n",
      "\n",
      "Transition Probabilities:\n",
      "q0 -(b, 0)→ q0 (PUSH, 0): 0.5071743917297519\n",
      "q0 -(a, 0)→ q1 (NOOP, 0): 0.4928256082702482\n",
      "q0 -(b, 1)→ q0 (PUSH, 1): 0.5074581682864563\n",
      "q0 -(a, 1)→ q1 (NOOP, 1): 0.4925418317135437\n",
      "q0 -(b, ⊥)→ q0 (PUSH, 1): 0.9369413730490439\n",
      "q0 -(a, ⊥)→ q1 (NOOP, ⊥): 0.06305862695095601\n",
      "q1 -(b, 0)→ q1 (NOOP, 0): 0.8890011447603218\n",
      "q1 -(a, 0)→ q1 (PUSH, 0): 0.11099885523967822\n",
      "q1 -(b, 1)→ q0 (PUSH, 1): 0.6857478560218359\n",
      "q1 -(a, 1)→ q0 (NOOP, 1): 0.3142521439781641\n",
      "q1 -(b, ⊥)→ q1 (PUSH, 0): 0.6517061887148173\n",
      "q1 -(a, ⊥)→ q0 (NOOP, ⊥): 0.34829381128518266\n",
      "\n",
      "Probabilistic PDA Status:\n",
      "Is Probabilistic: True\n",
      "\n"
     ]
    }
   ],
   "source": [
    "print(P.visualize())"
   ]
  },
  {
   "cell_type": "code",
   "execution_count": 9,
   "metadata": {},
   "outputs": [
    {
     "ename": "NameError",
     "evalue": "name 'FiniteStateTransform' is not defined",
     "output_type": "error",
     "traceback": [
      "\u001b[0;31m---------------------------------------------------------------------------\u001b[0m",
      "\u001b[0;31mNameError\u001b[0m                                 Traceback (most recent call last)",
      "Cell \u001b[0;32mIn[9], line 1\u001b[0m\n\u001b[0;32m----> 1\u001b[0m T \u001b[38;5;241m=\u001b[39m \u001b[43mFiniteStateTransform\u001b[49m(A)\n",
      "\u001b[0;31mNameError\u001b[0m: name 'FiniteStateTransform' is not defined"
     ]
    }
   ],
   "source": [
    "# T = ContextFreeTransform(A)"
   ]
  },
  {
   "cell_type": "code",
   "execution_count": null,
   "metadata": {},
   "outputs": [],
   "source": [
    "# lm = T.lm"
   ]
  },
  {
   "cell_type": "code",
   "execution_count": null,
   "metadata": {},
   "outputs": [
    {
     "name": "stdout",
     "output_type": "stream",
     "text": [
      "y=cbc logpA=-3.7649124563643896 logpT=-3.7649124563643896\n",
      "y=cbcc logpA=-3.877347885694178 logpT=-3.877347885694178\n",
      "y=bcbcc logpA=-8.593523055311874 logpT=-8.593523055311874\n",
      "y=baaabcbc logpA=-10.9796307169917 logpT=-10.9796307169917\n",
      "y=bcccacab logpA=-17.493614583963975 logpT=-17.493614583963975\n",
      "y=ccb logpA=-7.519527901765905 logpT=-7.519527901765905\n",
      "y=bccb logpA=-12.2357030713836 logpT=-12.2357030713836\n",
      "y=cb logpA=-3.6524770270346014 logpT=-3.6524770270346014\n",
      "y=bab logpA=-11.6579724715861 logpT=-11.6579724715861\n",
      "y=cbcc logpA=-3.877347885694178 logpT=-3.877347885694178\n",
      "y=cb logpA=-3.6524770270346014 logpT=-3.6524770270346014\n",
      "y=cccccb logpA=-10.72621425785359 logpT=-10.72621425785359\n",
      "y=babc logpA=-11.77040790091589 logpT=-11.770407900915888\n",
      "y=ccacbc logpA=-5.105415954053092 logpT=-5.105415954053093\n",
      "y=cb logpA=-3.6524770270346014 logpT=-3.6524770270346014\n",
      "y=cb logpA=-3.6524770270346014 logpT=-3.6524770270346014\n",
      "y=bab logpA=-11.6579724715861 logpT=-11.6579724715861\n",
      "y=cb logpA=-3.6524770270346014 logpT=-3.6524770270346014\n",
      "y=ababc logpA=-8.790002924416605 logpT=-8.790002924416605\n",
      "y=babc logpA=-11.77040790091589 logpT=-11.770407900915888\n",
      "y=bcabab logpA=-13.599532721039463 logpT=-13.599532721039463\n",
      "y=bccccababccc logpA=-17.143525365116513 logpT=-17.143525365116513\n",
      "y=ccacabab logpA=-10.22386104911047 logpT=-10.22386104911047\n",
      "y=ccabab logpA=-12.998475969274804 logpT=-12.998475969274804\n",
      "y=cb logpA=-3.6524770270346014 logpT=-3.6524770270346014\n",
      "y=cb logpA=-3.6524770270346014 logpT=-3.6524770270346014\n",
      "y=ccb logpA=-7.519527901765905 logpT=-7.519527901765905\n",
      "y=bcb logpA=-8.368652196652297 logpT=-8.368652196652297\n",
      "y=cbc logpA=-3.7649124563643896 logpT=-3.7649124563643896\n",
      "y=cb logpA=-3.6524770270346014 logpT=-3.6524770270346014\n",
      "y=cbcccc logpA=-4.102218744353754 logpT=-4.102218744353754\n",
      "y=ababcc logpA=-8.902438353746394 logpT=-8.902438353746394\n",
      "y=abaababc logpA=-14.268950991925506 logpT=-14.268950991925504\n"
     ]
    }
   ],
   "source": [
    "# N = 1000\n",
    "# Tmax = 20\n",
    "\n",
    "# for _ in range(N):\n",
    "#     length = random.randint(1, Tmax)\n",
    "#     y = ''.join(random.choices(['a', 'b', 'c'], k=length))\n",
    "\n",
    "#     pA = A(y).value\n",
    "#     if pA == 0:\n",
    "#         continue\n",
    "\n",
    "#     logpA = np.log(A(y).value)\n",
    "\n",
    "#     logpT = lm(y)\n",
    "\n",
    "#     print(f\"y={y} logpA={logpA} logpT={logpT}\")"
   ]
  }
 ],
 "metadata": {
  "kernelspec": {
   "display_name": "rayuela",
   "language": "python",
   "name": "python3"
  },
  "language_info": {
   "codemirror_mode": {
    "name": "ipython",
    "version": 3
   },
   "file_extension": ".py",
   "mimetype": "text/x-python",
   "name": "python",
   "nbconvert_exporter": "python",
   "pygments_lexer": "ipython3",
   "version": "3.10.13"
  }
 },
 "nbformat": 4,
 "nbformat_minor": 2
}
