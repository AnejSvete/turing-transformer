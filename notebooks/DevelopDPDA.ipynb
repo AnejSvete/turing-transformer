{
 "cells": [
  {
   "cell_type": "code",
   "execution_count": 1,
   "metadata": {},
   "outputs": [],
   "source": [
    "import random\n",
    "\n",
    "import numpy as np\n",
    "\n",
    "from turnformer.base.symbols import BOT\n",
    "from turnformer.automata.pda import SingleStackPDA\n",
    "from turnformer.transform.context_free import ContextFreeTransform"
   ]
  },
  {
   "cell_type": "code",
   "execution_count": 2,
   "metadata": {},
   "outputs": [],
   "source": [
    "P = SingleStackPDA(\n",
    "    Σ=[\"a\", \"b\"],\n",
    "    Γ=[BOT, \"0\", \"1\"],\n",
    "    n_states=2,\n",
    "    seed=42,\n",
    "    randomize=True,\n",
    ")"
   ]
  },
  {
   "cell_type": "code",
   "execution_count": 3,
   "metadata": {},
   "outputs": [
    {
     "name": "stdout",
     "output_type": "stream",
     "text": [
      "Probabilistic PDA\n",
      "-----------------\n",
      "\n",
      "States:\n",
      "0 1 \n",
      "Alphabet:\n",
      "a b \n",
      "\n",
      "Stack Alphabet:\n",
      "⊥ 0 1 \n",
      "\n",
      "Transition Probabilities:\n",
      "q0 -(a, ⊥)→ q0 (PUSH, 0): 0.638\n",
      "q0 -(b, ⊥)→ q1 (NOOP, ⊥): 0.362\n",
      "q0 -(a, 0)→ q0 (PUSH, 1): 0.562\n",
      "q0 -(b, 0)→ q1 (NOOP, 0): 0.438\n",
      "q0 -(a, 1)→ q0 (PUSH, 1): 0.548\n",
      "q0 -(b, 1)→ q1 (POP, 1): 0.452\n",
      "q1 -(a, ⊥)→ q1 (NOOP, ⊥): 0.661\n",
      "q1 -(b, ⊥)→ q1 (PUSH, 0): 0.339\n",
      "q1 -(a, 0)→ q0 (PUSH, 1): 0.567\n",
      "q1 -(b, 0)→ q0 (NOOP, 0): 0.433\n",
      "q1 -(a, 1)→ q1 (PUSH, 0): 0.534\n",
      "q1 -(b, 1)→ q0 (POP, 1): 0.466\n",
      "\n",
      "Probabilistic PDA Status:\n",
      "Is Probabilistic: True\n",
      "\n"
     ]
    }
   ],
   "source": [
    "print(P.visualize())"
   ]
  },
  {
   "cell_type": "code",
   "execution_count": 4,
   "metadata": {},
   "outputs": [],
   "source": [
    "T = ContextFreeTransform(P)"
   ]
  },
  {
   "cell_type": "code",
   "execution_count": 5,
   "metadata": {},
   "outputs": [
    {
     "data": {
      "text/plain": [
       "array([1., 0.])"
      ]
     },
     "execution_count": 5,
     "metadata": {},
     "output_type": "execute_result"
    }
   ],
   "source": [
    "T.T(\"a\")"
   ]
  },
  {
   "cell_type": "code",
   "execution_count": 6,
   "metadata": {},
   "outputs": [],
   "source": [
    "# lm = T.lm"
   ]
  },
  {
   "cell_type": "code",
   "execution_count": 7,
   "metadata": {},
   "outputs": [],
   "source": [
    "# N = 1000\n",
    "# Tmax = 20\n",
    "\n",
    "# for _ in range(N):\n",
    "#     length = random.randint(1, Tmax)\n",
    "#     y = ''.join(random.choices(['a', 'b', 'c'], k=length))\n",
    "\n",
    "#     pA = A(y).value\n",
    "#     if pA == 0:\n",
    "#         continue\n",
    "\n",
    "#     logpA = np.log(A(y).value)\n",
    "\n",
    "#     logpT = lm(y)\n",
    "\n",
    "#     print(f\"y={y} logpA={logpA} logpT={logpT}\")"
   ]
  }
 ],
 "metadata": {
  "kernelspec": {
   "display_name": "rayuela",
   "language": "python",
   "name": "python3"
  },
  "language_info": {
   "codemirror_mode": {
    "name": "ipython",
    "version": 3
   },
   "file_extension": ".py",
   "mimetype": "text/x-python",
   "name": "python",
   "nbconvert_exporter": "python",
   "pygments_lexer": "ipython3",
   "version": "3.10.13"
  }
 },
 "nbformat": 4,
 "nbformat_minor": 2
}
