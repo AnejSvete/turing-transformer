{
 "cells": [
  {
   "cell_type": "code",
   "execution_count": null,
   "metadata": {},
   "outputs": [],
   "source": [
    "import random\n",
    "\n",
    "import numpy as np\n",
    "from rayuela.fsa.random import random_pfsa\n",
    "\n",
    "from turnformer.transform.finite_state import FiniteStateTransform"
   ]
  },
  {
   "cell_type": "code",
   "execution_count": null,
   "metadata": {},
   "outputs": [],
   "source": [
    "A = random_pfsa(\n",
    "    Sigma=\"abc\",\n",
    "    num_states=6,\n",
    "    bias=0.4,\n",
    "    deterministic=True,\n",
    "    seed=3,\n",
    ")"
   ]
  },
  {
   "cell_type": "code",
   "execution_count": null,
   "metadata": {},
   "outputs": [],
   "source": [
    "A"
   ]
  },
  {
   "cell_type": "code",
   "execution_count": null,
   "metadata": {},
   "outputs": [],
   "source": [
    "T = FiniteStateTransform(A)"
   ]
  },
  {
   "cell_type": "code",
   "execution_count": null,
   "metadata": {},
   "outputs": [],
   "source": [
    "lm = T.lm"
   ]
  },
  {
   "cell_type": "code",
   "execution_count": null,
   "metadata": {},
   "outputs": [],
   "source": [
    "N = 1000\n",
    "Tmax = 20\n",
    "\n",
    "for _ in range(N):\n",
    "    length = random.randint(1, Tmax)\n",
    "    y = ''.join(random.choices(['a', 'b', 'c'], k=length))\n",
    "\n",
    "    pA = A(y).value\n",
    "    if pA == 0:\n",
    "        continue\n",
    "\n",
    "    logpA = np.log(A(y).value)\n",
    "\n",
    "    logpT = lm(y)\n",
    "\n",
    "    print(f\"y={y} logpA={logpA} logpT={logpT}\")"
   ]
  }
 ],
 "metadata": {
  "kernelspec": {
   "display_name": "rayuela",
   "language": "python",
   "name": "python3"
  },
  "language_info": {
   "codemirror_mode": {
    "name": "ipython",
    "version": 3
   },
   "file_extension": ".py",
   "mimetype": "text/x-python",
   "name": "python",
   "nbconvert_exporter": "python",
   "pygments_lexer": "ipython3",
   "version": "3.10.13"
  }
 },
 "nbformat": 4,
 "nbformat_minor": 2
}
